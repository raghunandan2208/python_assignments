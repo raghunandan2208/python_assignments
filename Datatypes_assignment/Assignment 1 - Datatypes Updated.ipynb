{
 "cells": [
  {
   "cell_type": "code",
   "execution_count": null,
   "metadata": {},
   "outputs": [],
   "source": [
    "2.Given a dict of tickets(\"to\":\"from\")\n",
    "\n",
    "{\"Chennai\":\"Banglore\",\"Bombay\":\"Delhi\",\"Goa\":\"Chennai\",\"Delhi\":\"Goa\"} find out the sequence of travel.\n",
    "\n",
    "Expected Output : Bombay->Delhi, Delhi->Goa, Goa->Chennai, Chennai->Banglore\n",
    "\n",
    "Function Name : travel_sequence Input : dict Output : dict"
   ]
  },
  {
   "cell_type": "code",
   "execution_count": 1,
   "metadata": {},
   "outputs": [
    {
     "name": "stdout",
     "output_type": "stream",
     "text": [
      "{0: ('Bombay', 'Delhi'), 1: ('Delhi', 'Goa'), 2: ('Chennai', 'Banglore'), 3: ('Goa', 'Chennai')}\n"
     ]
    }
   ],
   "source": [
    "tickets={\"Chennai\":\"Banglore\",\"Bombay\":\"Delhi\",\"Goa\":\"Chennai\",\"Delhi\":\"Goa\"}\n",
    "direction={}\n",
    "l=-1\n",
    "for k1,v in tickets.items():\n",
    "    count=0\n",
    "    for v1 in tickets.values():\n",
    "        if(k1==v1):\n",
    "            count=count+1\n",
    "    if(count==0):\n",
    "        l+=1\n",
    "        direction[l]=k1,v\n",
    "    if(l>=0):\n",
    "        for k2,v2 in tickets.items():\n",
    "            if(k2==v):\n",
    "                l+=1\n",
    "                direction[l]=k2,v2\n",
    "print(direction)"
   ]
  },
  {
   "cell_type": "code",
   "execution_count": null,
   "metadata": {},
   "outputs": [],
   "source": [
    "3.Given a dictionary that associates the names of states with a list of the names of cities that appear in it,write a program \n",
    "that creates a new dictionary that associates the name of a city with the list of states that it appears in.\n",
    "\n",
    "As an example, if the first dictionary is\n",
    "\n",
    "Input : states = {'New Hampshire': ['Concord', 'Hanover'],\n",
    "\n",
    "'Massachusetts': ['Boston', 'Concord', 'Springfield'],\n",
    "\n",
    "'Illinois': ['Chicago', 'Springfield', 'Peoria'] }\n",
    "\n",
    "Output:\n",
    "\n",
    "cities = {'Hanover': ['New Hampshire'],\n",
    "\n",
    "'Chicago': ['Illinois'],'Boston': ['Massachusetts'],\n",
    "\n",
    "'Peoria': ['Illinois'],'Concord': ['New Hampshire','Massachusetts'],\n",
    "\n",
    "'Springfield': ['Massachusetts', 'Illinois'] }\n",
    "\n",
    "Function Name : city_with_states Input : dict Output : dict"
   ]
  },
  {
   "cell_type": "code",
   "execution_count": 1,
   "metadata": {},
   "outputs": [
    {
     "name": "stdout",
     "output_type": "stream",
     "text": [
      "{'Concord': ['New Hampshire', 'Massachusetts'], 'Hanover': ['New Hampshire'], 'Boston': ['Massachusetts'], 'Springfield': ['Massachusetts', 'Illinois'], 'Chicago': ['Illinois'], 'Peoria': ['Illinois']}\n"
     ]
    }
   ],
   "source": [
    "input_states = {'New Hampshire': ['Concord', 'Hanover'],'Massachusetts': ['Boston', 'Concord', 'Springfield'],\n",
    "                'Illinois': ['Chicago', 'Springfield', 'Peoria'] }\n",
    "cities = {}\n",
    "\n",
    "for key,value in input_states.items():\n",
    "    for x in value:\n",
    "        if x in cities.keys():\n",
    "            cities[x].append(key)\n",
    "        else:\n",
    "            cities.setdefault(x,[key])\n",
    "print(cities)"
   ]
  },
  {
   "cell_type": "code",
   "execution_count": null,
   "metadata": {},
   "outputs": [],
   "source": [
    "4.How do you check if a given String contains valid parentheses? Given a string containing just the characters\n",
    "'(', ')', '{', '}', '[' and ']', write a program in python to check if the input string is valid. The brackets must\n",
    "close in the correct order, \"()\" and \"()[]{}\" are all valid but \"(]\" and \"([)]\" are not.\n",
    "\n",
    "Function Name : check_parentheses Input : str Output : True/False"
   ]
  },
  {
   "cell_type": "code",
   "execution_count": 4,
   "metadata": {},
   "outputs": [
    {
     "name": "stdout",
     "output_type": "stream",
     "text": [
      "True\n",
      "False\n",
      "False\n",
      "True\n"
     ]
    }
   ],
   "source": [
    "STARTING = {\"{\", \"[\", \"(\"}\n",
    "ENDING = {\"]\": \"[\", \"}\": \"{\", \")\": \"(\"}\n",
    "\n",
    "def check_parentheses(s):\n",
    "    stack = []\n",
    "    for bracket in s:\n",
    "        if bracket in STARTING:\n",
    "            stack.append(bracket)\n",
    "        elif not stack:\n",
    "            return False       \n",
    "        elif stack.pop() != ENDING[bracket]:\n",
    "            return False        \n",
    "    return not stack\n",
    "\n",
    "\n",
    "\n",
    "sample1 = \"()\"\n",
    "sample2 = \"(]\"\n",
    "sample3 = \"([)]\"\n",
    "sample4 = \"()[]{}\"\n",
    "\n",
    "print(check_parentheses(sample1))\n",
    "print(check_parentheses(sample2))\n",
    "print(check_parentheses(sample3))\n",
    "print(check_parentheses(sample4))"
   ]
  },
  {
   "cell_type": "code",
   "execution_count": null,
   "metadata": {},
   "outputs": [],
   "source": [
    "5.Write a program to convert Integer to Roman String. For example, if a given integer is 5 then your program should print \"V\".\n",
    "\n",
    "Function Name : int_roman Input : int Output : str"
   ]
  },
  {
   "cell_type": "code",
   "execution_count": 11,
   "metadata": {},
   "outputs": [
    {
     "name": "stdout",
     "output_type": "stream",
     "text": [
      "VIII\n"
     ]
    }
   ],
   "source": [
    "def int_roman(num):\n",
    "    digits = [1000, 900, 500, 400,100, 90, 50, 40,10, 9, 5, 4,1]\n",
    "    romans = [\"M\", \"CM\", \"D\", \"CD\",\"C\", \"XC\", \"L\", \"XL\",\"X\", \"IX\", \"V\", \"IV\",\"I\"]\n",
    "    roman_num = ''\n",
    "    i = 0\n",
    "\n",
    "    while num>0:\n",
    "        for x in range(num//digits[i]):\n",
    "            roman_num += romans[i]\n",
    "            num -= digits[i]\n",
    "        i+=1\n",
    "    return roman_num\n",
    "\n",
    "print(int_roman(8))"
   ]
  },
  {
   "cell_type": "code",
   "execution_count": null,
   "metadata": {},
   "outputs": [],
   "source": [
    "6.Write a program utility that counts the number of lines of actual python code in a. For the purpose of this exercise,\n",
    "a line is counted if it contains something other than whitespace or text in a comment.\n",
    "\n",
    "remember that comment start sequences that appear inside python strings should be ignored.\n",
    "\n",
    "Function Name : count_code_lines Input : str Output : int"
   ]
  },
  {
   "cell_type": "code",
   "execution_count": 12,
   "metadata": {},
   "outputs": [
    {
     "name": "stdout",
     "output_type": "stream",
     "text": [
      "Enter file name: code.txt\n",
      "Number of lines:\n",
      "13\n"
     ]
    }
   ],
   "source": [
    "filename = input(\"Enter file name: \")\n",
    "num_lines = 0\n",
    "with open(filename, 'r') as file:\n",
    "    for line in file:\n",
    "        if line.startswith(\"#\"):\n",
    "            continue\n",
    "        num_lines += 1\n",
    "print(\"Number of lines:\")\n",
    "print(num_lines)"
   ]
  },
  {
   "cell_type": "code",
   "execution_count": null,
   "metadata": {},
   "outputs": [],
   "source": [
    "7.Write a program to check the strength of a supplied password\n",
    "\n",
    "The length of the password must be at least 8 characters in length The password must contain at least 1 capital\n",
    "letter The password must contain at least 1 digit The password must contain at least 1 special character and allowed \n",
    "special characters are (!,@,#,$,&)\n",
    "\n",
    "We need to provide feedback to the user about the strength of their password\n",
    "\n",
    "Provide the user with a list of reasons why their password is 'weak'\n",
    "Function Name : check_password_strength Input : str Output : tuple (str,list)\n",
    "                        eg (\"Weak\",[\"The password must contain at least 1 capital letter\"])"
   ]
  },
  {
   "cell_type": "code",
   "execution_count": 10,
   "metadata": {},
   "outputs": [
    {
     "name": "stdout",
     "output_type": "stream",
     "text": [
      "Enter password for validations: raghu123\n",
      "Must contain One Captial Letter\n"
     ]
    }
   ],
   "source": [
    "import re\n",
    "password = input(\"Enter password for validations: \")\n",
    "def check_sentence(password):\n",
    "    if (len(password)>=8):\n",
    "        if  re.search(\"[A-Z]\",password):\n",
    "            if  re.search(\"[!@#$&]\",password):\n",
    "                if  re.search(\"[0-9]\",password):\n",
    "                        print(\"valid Password\")\n",
    "                else:\n",
    "                    print('missing digit')\n",
    "            else:\n",
    "                print(\"Special Characters are Missing\")\n",
    "        else:\n",
    "            print(\"Must contain One Captial Letter\")          \n",
    "    else:\n",
    "        print(\"length should be more 8 \")\n",
    "    \n",
    "check_sentence(password)"
   ]
  },
  {
   "cell_type": "code",
   "execution_count": null,
   "metadata": {},
   "outputs": [],
   "source": [
    "8. Check if given sentence is syntactically correct or not\n",
    "A simple sentence if syntactically correct if it fulfills given rules. The following are given rules.\n",
    "\n",
    "Sentence must start with a Uppercase character (e.g. Noun/ I/ We/ He etc.)\n",
    "There must be spaces between words.\n",
    "Then the sentence must end with a full stop(.).\n",
    "Two continuous spaces are not allowed.\n",
    "Two continuous uppercase characters are not allowed.\n",
    "However the sentence can end after an uppercase character.\n",
    "Function Name : check_sentence Input : str Output : tuple (True/False,list) eg (False,[\"There must be spaces between words.\"])"
   ]
  },
  {
   "cell_type": "code",
   "execution_count": 11,
   "metadata": {},
   "outputs": [
    {
     "name": "stdout",
     "output_type": "stream",
     "text": [
      "True, [ East or west edyoda is best.]\n",
      "False, [Without  Kunal u can Do any thing ]\n",
      "False, [There  must be spaces between words.]\n"
     ]
    }
   ],
   "source": [
    "def check_sentence(sample):\n",
    "    length = len(sample)\n",
    "    before = 0\n",
    "    after = 0\n",
    "    pos = 1\n",
    "    if sample[0]<'A' or sample[0]>'Z':\n",
    "        return False\n",
    "    if sample[length-1] != '.':\n",
    "        return False\n",
    "    while (sample[pos]):\n",
    "        if sample[pos] >= 'A' and sample[pos]< 'Z':\n",
    "            after = 0\n",
    "        elif sample[pos] == ' ':\n",
    "            after =1\n",
    "        elif sample[pos] >= 'a' and sample[pos] <='z':\n",
    "            after = 2\n",
    "        elif sample[pos] == '.':\n",
    "            after = 3\n",
    "        \n",
    "        if before == after and after != 2:\n",
    "            return False\n",
    "        if before == 2 and after == 0:\n",
    "            return False\n",
    "        if after==3 and before != 1:\n",
    "            return True\n",
    "        \n",
    "        pos += 1\n",
    "        before = after\n",
    "    return False\n",
    "\n",
    "\n",
    "sample = [\"East or west edyoda is best.\",\"Without  Kunal u can Do any thing \",\"There  must be spaces between words.\"]\n",
    "\n",
    "sample_length = len(sample)\n",
    "\n",
    "for i in range(sample_length):\n",
    "    if check_sentence(sample[i]):\n",
    "        print('True, [',sample[i]+']')\n",
    "    else:\n",
    "        print(\"False, [\"+sample[i]+']')"
   ]
  },
  {
   "cell_type": "code",
   "execution_count": null,
   "metadata": {},
   "outputs": [],
   "source": [
    "9.Given an array arr[] of integers and an integer K, the task is to find the greatest contiguous sub-array of size K.\n",
    "\n",
    "Sub-array X is said to be greater than sub-array Y if the first non-matching element in both the sub-arrays has a greater value in X than in Y.\n",
    "\n",
    "For example : Input: arr[] = {1, 4, 3, 2, 5}, K = 4 Output: 4 3 2 5 Two subarrays are {1, 4, 3, 2} and {4, 3, 2, 5}. First non-matching element from array1 and array 2 : 1 and 4 as 4 is greater Hence, the greater one is {4, 3, 2, 5}\n",
    "\n",
    "Function Name : greatest_sub_array() Input : list Output : list"
   ]
  },
  {
   "cell_type": "code",
   "execution_count": 2,
   "metadata": {},
   "outputs": [
    {
     "name": "stdout",
     "output_type": "stream",
     "text": [
      "[4, 3, 2, 5]\n"
     ]
    }
   ],
   "source": [
    "def greatest_sub_array(l, k, n): \n",
    "    lst=[]  \n",
    "    for i in range(n-k+1): \n",
    "        temp=[] \n",
    "        for j in range(i,i+k):\n",
    "            temp.append(l[j]) \n",
    "        lst.append(temp) \n",
    "    lst=sorted(lst) \n",
    "    return lst[len(lst) - 1] \n",
    "\n",
    "l =[ 1, 4, 3, 2, 5 ] \n",
    "k = 4\n",
    "n = len(l) \n",
    "\n",
    "\n",
    "output = greatest_sub_array(l, k, n) \n",
    "print(output)"
   ]
  },
  {
   "cell_type": "code",
   "execution_count": null,
   "metadata": {},
   "outputs": [],
   "source": [
    "10.Given a list of N integers. The task is to eliminate the minimum number of elements such that in the resulting list \n",
    "the sum of any two adjacent values is even.\n",
    "\n",
    "Numbers = [1, 3, 5, 4, 2] Output = [1, 3, 5] Total elements removed 2 Elements to be removed [4,2]\n",
    "\n",
    "Function Name : adj_sum_even() Input : list Output : tuple(int,list)"
   ]
  },
  {
   "cell_type": "code",
   "execution_count": 15,
   "metadata": {
    "scrolled": true
   },
   "outputs": [
    {
     "data": {
      "text/plain": [
       "('Output: ',\n",
       " [1, 3, 5],\n",
       " 'Total elements removed:',\n",
       " 2,\n",
       " 'Elements to be removed:',\n",
       " [4, 2])"
      ]
     },
     "execution_count": 15,
     "metadata": {},
     "output_type": "execute_result"
    }
   ],
   "source": [
    "def adj_sum_even(n,lst):\n",
    "    CountOdd = 0\n",
    "    output=[]\n",
    "    lst_1=[]\n",
    "    for i in range(n):\n",
    "        if (lst[i]%2==1):\n",
    "            CountOdd+=1\n",
    "            output.append(lst[i])\n",
    "        else:\n",
    "             lst_1.append(lst[i])\n",
    "    return ('Output: ',output, 'Total elements removed:',n-CountOdd,'Elements to be removed:',lst_1)\n",
    "\n",
    "lst=[1,3,5,4,2]\n",
    "n = len(lst)\n",
    "adj_sum_even(n,lst)"
   ]
  },
  {
   "cell_type": "code",
   "execution_count": null,
   "metadata": {},
   "outputs": [],
   "source": []
  }
 ],
 "metadata": {
  "kernelspec": {
   "display_name": "Python 3",
   "language": "python",
   "name": "python3"
  },
  "language_info": {
   "codemirror_mode": {
    "name": "ipython",
    "version": 3
   },
   "file_extension": ".py",
   "mimetype": "text/x-python",
   "name": "python",
   "nbconvert_exporter": "python",
   "pygments_lexer": "ipython3",
   "version": "3.7.4"
  }
 },
 "nbformat": 4,
 "nbformat_minor": 2
}
